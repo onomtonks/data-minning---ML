{
  "nbformat": 4,
  "nbformat_minor": 0,
  "metadata": {
    "colab": {
      "provenance": []
    },
    "kernelspec": {
      "name": "python3",
      "display_name": "Python 3"
    },
    "language_info": {
      "name": "python"
    }
  },
  "cells": [
    {
      "cell_type": "code",
      "execution_count": 3,
      "metadata": {
        "id": "mEHFUTHoheSd"
      },
      "outputs": [],
      "source": [
        "# Importieren der benötigten Libraries\n",
        "import matplotlib.pyplot as plt\n",
        "import numpy as np\n",
        "import pandas as pd\n",
        "import seaborn as sns\n",
        "import sklearn\n",
        "from sklearn import datasets\n",
        "from sklearn.ensemble import RandomForestClassifier, RandomForestRegressor\n",
        "from sklearn.metrics import (confusion_matrix, mean_absolute_error,\n",
        "                             mean_squared_error, mean_squared_log_error,\n",
        "                             median_absolute_error, precision_recall_curve,\n",
        "                             r2_score, roc_auc_score, roc_curve)\n",
        "from sklearn.model_selection import cross_val_predict\n",
        "from sklearn.naive_bayes import GaussianNB"
      ]
    },
    {
      "cell_type": "markdown",
      "source": [
        "\n",
        "# Aufgabe 3.2 Precision, Recall und Accuracy"
      ],
      "metadata": {
        "id": "EjG3UMGOiRHS"
      }
    },
    {
      "cell_type": "markdown",
      "source": [
        "Wir verwenden hier das [Breast Cancer Wisconsin (Diagnostic) Data Set](https://scikit-learn.org/stable/modules/generated/sklearn.datasets.load_breast_cancer.html). Die Merkmale werden aus einem digitalisierten Bild eines Feinnadelaspirats (FNA) einer Brustmasse berechnet. Sie beschreiben die Merkmale der im Bild vorhandenen Zellkerne."
      ],
      "metadata": {
        "id": "R176R6CeCudk"
      }
    },
    {
      "cell_type": "code",
      "source": [
        "# Features im Dataset\n",
        "datasets.load_breast_cancer().feature_names"
      ],
      "metadata": {
        "colab": {
          "base_uri": "https://localhost:8080/"
        },
        "id": "fU6gn6bQC-Rp",
        "outputId": "e0cbd294-4e82-4c8a-cb50-8bfd42560097"
      },
      "execution_count": 20,
      "outputs": [
        {
          "output_type": "execute_result",
          "data": {
            "text/plain": [
              "array(['mean radius', 'mean texture', 'mean perimeter', 'mean area',\n",
              "       'mean smoothness', 'mean compactness', 'mean concavity',\n",
              "       'mean concave points', 'mean symmetry', 'mean fractal dimension',\n",
              "       'radius error', 'texture error', 'perimeter error', 'area error',\n",
              "       'smoothness error', 'compactness error', 'concavity error',\n",
              "       'concave points error', 'symmetry error',\n",
              "       'fractal dimension error', 'worst radius', 'worst texture',\n",
              "       'worst perimeter', 'worst area', 'worst smoothness',\n",
              "       'worst compactness', 'worst concavity', 'worst concave points',\n",
              "       'worst symmetry', 'worst fractal dimension'], dtype='<U23')"
            ]
          },
          "metadata": {},
          "execution_count": 20
        }
      ]
    },
    {
      "cell_type": "code",
      "source": [
        "# Labels im Dataset\n",
        "datasets.load_breast_cancer().target_names"
      ],
      "metadata": {
        "colab": {
          "base_uri": "https://localhost:8080/"
        },
        "id": "mACHgNOzDC22",
        "outputId": "ac366e39-157b-4029-f5cd-8c8076dff343"
      },
      "execution_count": 21,
      "outputs": [
        {
          "output_type": "execute_result",
          "data": {
            "text/plain": [
              "array(['malignant', 'benign'], dtype='<U9')"
            ]
          },
          "metadata": {},
          "execution_count": 21
        }
      ]
    },
    {
      "cell_type": "code",
      "source": [
        "# Load Data\n",
        "X, y = datasets.load_breast_cancer(return_X_y=True)\n",
        "X_train, y_train = X[:int(0.8*len(X))], y[:int(0.8*len(y))]\n",
        "X_test, y_test = X[int(0.8*len(X)):], y[int(0.8*len(y)):]\n",
        "\n",
        "# Train classifier\n",
        "clf = RandomForestClassifier(n_estimators=10, max_depth=1)\n",
        "clf.fit(X_train, y_train)\n",
        "y_scores = clf.predict_proba(X_test)"
      ],
      "metadata": {
        "id": "8ic1Wm2MnXHC"
      },
      "execution_count": 22,
      "outputs": []
    },
    {
      "cell_type": "code",
      "source": [
        "y.shape"
      ],
      "metadata": {
        "colab": {
          "base_uri": "https://localhost:8080/"
        },
        "id": "BnjAnjPZncC-",
        "outputId": "0a33b07f-27e9-4f6b-fdb6-aa45c6520e38"
      },
      "execution_count": 7,
      "outputs": [
        {
          "output_type": "execute_result",
          "data": {
            "text/plain": [
              "(569,)"
            ]
          },
          "metadata": {},
          "execution_count": 7
        }
      ]
    },
    {
      "cell_type": "markdown",
      "source": [
        "## f) PR-Kurve (Precision-Recall Kurve)\n",
        "Die Optimierung auf Precision führt in der Regel zu einer Verringerung des Recalls und umgekehrt. Dies zeigt sich in einem PR-Kurvendiagramm wie im folgenden Beispiel, in dem wir einen RandomForestClassifier auf dem Brustkrebs-Datensatz ausführen. Die Datenpunkte für die PR-Kurve erhält man durch Berechnung der Precision und des Recall-Wertes für einen Satz von Schwellenwerten zwischen $0.0$ und $1.0$.\n",
        "\n",
        "Implementieren Sie die Funktion _plot\\_pr\\_curve_.\n",
        "Sie können dabei die Funktion [sklearn.metrics.precision_recall_curve](https://scikit-learn.org/stable/modules/generated/sklearn.metrics.precision_recall_curve.html) verwenden."
      ],
      "metadata": {
        "id": "8eFj5-KdioKJ"
      }
    },
    {
      "cell_type": "code",
      "source": [
        "y_scores"
      ],
      "metadata": {
        "colab": {
          "base_uri": "https://localhost:8080/"
        },
        "id": "sltRiChnekRj",
        "outputId": "38cf4b4f-3965-4532-90ce-b86b32df6db7"
      },
      "execution_count": 8,
      "outputs": [
        {
          "output_type": "execute_result",
          "data": {
            "text/plain": [
              "array([[0.08677455, 0.91322545],\n",
              "       [0.16325001, 0.83674999],\n",
              "       [0.08677455, 0.91322545],\n",
              "       [0.08677455, 0.91322545],\n",
              "       [0.08677455, 0.91322545],\n",
              "       [0.91600601, 0.08399399],\n",
              "       [0.91600601, 0.08399399],\n",
              "       [0.08677455, 0.91322545],\n",
              "       [0.08677455, 0.91322545],\n",
              "       [0.08677455, 0.91322545],\n",
              "       [0.41732633, 0.58267367],\n",
              "       [0.16325001, 0.83674999],\n",
              "       [0.08677455, 0.91322545],\n",
              "       [0.91600601, 0.08399399],\n",
              "       [0.24383478, 0.75616522],\n",
              "       [0.08677455, 0.91322545],\n",
              "       [0.08677455, 0.91322545],\n",
              "       [0.58631161, 0.41368839],\n",
              "       [0.08677455, 0.91322545],\n",
              "       [0.16325001, 0.83674999],\n",
              "       [0.16325001, 0.83674999],\n",
              "       [0.34114822, 0.65885178],\n",
              "       [0.08677455, 0.91322545],\n",
              "       [0.16325001, 0.83674999],\n",
              "       [0.91600601, 0.08399399],\n",
              "       [0.08677455, 0.91322545],\n",
              "       [0.17093604, 0.82906396],\n",
              "       [0.16735933, 0.83264067],\n",
              "       [0.08677455, 0.91322545],\n",
              "       [0.83214186, 0.16785814],\n",
              "       [0.16325001, 0.83674999],\n",
              "       [0.25561838, 0.74438162],\n",
              "       [0.91600601, 0.08399399],\n",
              "       [0.08677455, 0.91322545],\n",
              "       [0.75894578, 0.24105422],\n",
              "       [0.08677455, 0.91322545],\n",
              "       [0.75894578, 0.24105422],\n",
              "       [0.83953055, 0.16046945],\n",
              "       [0.08677455, 0.91322545],\n",
              "       [0.08677455, 0.91322545],\n",
              "       [0.16735933, 0.83264067],\n",
              "       [0.24383478, 0.75616522],\n",
              "       [0.08677455, 0.91322545],\n",
              "       [0.91600601, 0.08399399],\n",
              "       [0.91600601, 0.08399399],\n",
              "       [0.58697846, 0.41302154],\n",
              "       [0.32851712, 0.67148288],\n",
              "       [0.08677455, 0.91322545],\n",
              "       [0.91600601, 0.08399399],\n",
              "       [0.16735933, 0.83264067],\n",
              "       [0.24383478, 0.75616522],\n",
              "       [0.16325001, 0.83674999],\n",
              "       [0.08677455, 0.91322545],\n",
              "       [0.67508163, 0.32491837],\n",
              "       [0.91600601, 0.08399399],\n",
              "       [0.16325001, 0.83674999],\n",
              "       [0.08677455, 0.91322545],\n",
              "       [0.49820845, 0.50179155],\n",
              "       [0.34114822, 0.65885178],\n",
              "       [0.66687454, 0.33312546],\n",
              "       [0.08677455, 0.91322545],\n",
              "       [0.91600601, 0.08399399],\n",
              "       [0.91600601, 0.08399399],\n",
              "       [0.16735933, 0.83264067],\n",
              "       [0.08677455, 0.91322545],\n",
              "       [0.08677455, 0.91322545],\n",
              "       [0.91600601, 0.08399399],\n",
              "       [0.08677455, 0.91322545],\n",
              "       [0.08677455, 0.91322545],\n",
              "       [0.08677455, 0.91322545],\n",
              "       [0.08677455, 0.91322545],\n",
              "       [0.16325001, 0.83674999],\n",
              "       [0.08677455, 0.91322545],\n",
              "       [0.16735933, 0.83264067],\n",
              "       [0.08677455, 0.91322545],\n",
              "       [0.08677455, 0.91322545],\n",
              "       [0.16325001, 0.83674999],\n",
              "       [0.08677455, 0.91322545],\n",
              "       [0.91600601, 0.08399399],\n",
              "       [0.08677455, 0.91322545],\n",
              "       [0.91600601, 0.08399399],\n",
              "       [0.24383478, 0.75616522],\n",
              "       [0.08677455, 0.91322545],\n",
              "       [0.08677455, 0.91322545],\n",
              "       [0.16325001, 0.83674999],\n",
              "       [0.08677455, 0.91322545],\n",
              "       [0.33346218, 0.66653782],\n",
              "       [0.34114822, 0.65885178],\n",
              "       [0.08677455, 0.91322545],\n",
              "       [0.08677455, 0.91322545],\n",
              "       [0.08677455, 0.91322545],\n",
              "       [0.08677455, 0.91322545],\n",
              "       [0.08677455, 0.91322545],\n",
              "       [0.08677455, 0.91322545],\n",
              "       [0.08677455, 0.91322545],\n",
              "       [0.08677455, 0.91322545],\n",
              "       [0.08677455, 0.91322545],\n",
              "       [0.08677455, 0.91322545],\n",
              "       [0.08677455, 0.91322545],\n",
              "       [0.08677455, 0.91322545],\n",
              "       [0.08677455, 0.91322545],\n",
              "       [0.08677455, 0.91322545],\n",
              "       [0.08677455, 0.91322545],\n",
              "       [0.24793234, 0.75206766],\n",
              "       [0.16325001, 0.83674999],\n",
              "       [0.08677455, 0.91322545],\n",
              "       [0.08677455, 0.91322545],\n",
              "       [0.91600601, 0.08399399],\n",
              "       [0.91600601, 0.08399399],\n",
              "       [0.91600601, 0.08399399],\n",
              "       [0.91600601, 0.08399399],\n",
              "       [0.91600601, 0.08399399],\n",
              "       [0.91600601, 0.08399399],\n",
              "       [0.08677455, 0.91322545]])"
            ]
          },
          "metadata": {},
          "execution_count": 8
        }
      ]
    },
    {
      "cell_type": "code",
      "source": [
        "def plot_pr_curve(y: np.ndarray, y_scores: np.ndarray):\n",
        "    \"\"\"Zeichnet die Kurve für die Precision und den Recall für die wahren Klassenlabels y und die vorhergesagten Labels mit ihrer Wahrscheinlichkeit\"\"\"\n",
        "    #keys_list = list(y.keys())\n",
        "\n",
        "    precision, recall, thresholds = precision_recall_curve(\n",
        "        y, y_scores[:, 1]\n",
        "    )\n",
        "\n",
        "    # Plot PR Curve\n",
        "    plt.figure()\n",
        "    plt.plot(recall, precision, 'o-', label=\"Thresholds\")\n",
        "    for idx, theta in enumerate(thresholds):\n",
        "      plt.annotate(f'{theta:.2f}', (recall[idx], precision[idx]))\n",
        "    plt.title(\"Precision-Recall Curve\")\n",
        "    plt.xlabel(\"Recall\")\n",
        "    plt.ylabel(\"Precision\")\n",
        "    plt.legend()\n",
        "    plt.tight_layout()\n",
        "    plt.show()\n",
        "    return thresholds\n",
        "\n"
      ],
      "metadata": {
        "id": "I8c4Dr2BiqRC"
      },
      "execution_count": 23,
      "outputs": []
    },
    {
      "cell_type": "code",
      "source": [],
      "metadata": {
        "id": "412ZmF27faOy"
      },
      "execution_count": null,
      "outputs": []
    },
    {
      "cell_type": "code",
      "source": [
        "plot_pr_curve(y_test, y_scores)"
      ],
      "metadata": {
        "id": "xoG1LHn6xj_b",
        "colab": {
          "base_uri": "https://localhost:8080/",
          "height": 579
        },
        "outputId": "ec54f2b8-a7f3-4657-8533-62438f01af71"
      },
      "execution_count": 24,
      "outputs": [
        {
          "output_type": "display_data",
          "data": {
            "text/plain": [
              "<Figure size 640x480 with 1 Axes>"
            ],
            "image/png": "[encoded data removed]"
          },
          "metadata": {}
        },
        {
          "output_type": "execute_result",
          "data": {
            "text/plain": [
              "array([0.09901774, 0.17665495, 0.26178491, 0.33141596, 0.33954592,\n",
              "       0.34149617, 0.41718313, 0.41849617, 0.42726334, 0.50426334,\n",
              "       0.53513869, 0.69533526, 0.70346522, 0.76622386, 0.77233526,\n",
              "       0.77309626, 0.77630407, 0.78046522, 0.78110243, 0.85009626,\n",
              "       0.85810243, 0.85822623, 0.85886343, 0.93586343])"
            ]
          },
          "metadata": {},
          "execution_count": 24
        }
      ]
    },
    {
      "cell_type": "markdown",
      "source": [
        "## g) ROC-Kurve (Receiver Operating Characteristic)\n",
        "Implementieren Sie die Funktion _plot\\_roc\\_curve_ um die ROC-Kurve zu visualisieren. Geben Sie im Plot-Titel den zugehörigen AUC-Wert an.\n",
        "Sie können dabei die Funktionen [sklearn.metrics.roc_curve](https://scikit-learn.org/stable/modules/generated/sklearn.metrics.roc_curve.html) und [sklearn.metrics.roc_auc_score](https://scikit-learn.org/stable/modules/generated/sklearn.metrics.roc_auc_score.html) verwenden.\n"
      ],
      "metadata": {
        "id": "yrvaSZEr1tHm"
      }
    },
    {
      "cell_type": "code",
      "source": [
        "def plot_roc_curve(y, y_scores):\n",
        "    \"\"\"Zeichnet die Receiver-Operating-Characteristic-Kurve für die wahren Klassenlabels y und die vorhergesagten Labels mit ihrer Wahrscheinlichkeit\"\"\"\n",
        "    fpr, tpr, thresholds = roc_curve(y, y_scores[:, 1])\n",
        "    roc_auc = roc_auc_score(y, y_scores[:, 1])\n",
        "    plt.figure()\n",
        "    plt.plot(fpr, tpr, 'o-', label=\"Thresholds\")\n",
        "    for idx, theta in enumerate(thresholds):\n",
        "      plt.annotate(f'{theta:.2f}', (fpr[idx], tpr[idx]))\n",
        "    plt.title(f\"ROC Curve  ($AUC={roc_auc:.2f}$\")\n",
        "    plt.xlabel(\" false positive rates\")\n",
        "    plt.ylabel(\"true positive rates\")\n",
        "    plt.legend()\n",
        "    plt.tight_layout()\n",
        "    plt.show()\n",
        "    return thresholds\n",
        "\n"
      ],
      "metadata": {
        "id": "873695tTyLCs"
      },
      "execution_count": 25,
      "outputs": []
    },
    {
      "cell_type": "code",
      "source": [
        "# Load Data\n",
        "X, y = datasets.load_breast_cancer(return_X_y=True)\n",
        "X_train, y_train = X[:int(0.8*len(X))], y[:int(0.8*len(y))]\n",
        "X_test, y_test = X[int(0.8*len(X)):], y[int(0.8*len(y)):]\n",
        "\n",
        "# Train classifier\n",
        "clf = RandomForestClassifier(n_estimators=10, max_depth=1)\n",
        "clf.fit(X_train, y_train)\n",
        "y_scores = clf.predict_proba(X_test)\n",
        "\n",
        "plot_roc_curve(y_test, y_scores)"
      ],
      "metadata": {
        "id": "_oQ6lJy72dlE",
        "colab": {
          "base_uri": "https://localhost:8080/",
          "height": 579
        },
        "outputId": "d61e4344-c31e-4ffa-f7f8-63a33b22259b"
      },
      "execution_count": 14,
      "outputs": [
        {
          "output_type": "display_data",
          "data": {
            "text/plain": [
              "<Figure size 640x480 with 1 Axes>"
            ],
            "image/png": "[encoded data removed]"
          },
          "metadata": {}
        },
        {
          "output_type": "execute_result",
          "data": {
            "text/plain": [
              "array([       inf, 0.89678019, 0.84613401, 0.84598654, 0.83426768,\n",
              "       0.81310672, 0.79534036, 0.7836215 , 0.71994989, 0.70823103,\n",
              "       0.65743738, 0.52109527, 0.49008476, 0.43732607, 0.43356549,\n",
              "       0.41607211, 0.40255497, 0.40044246, 0.34964881, 0.29942309,\n",
              "       0.22361216, 0.2118933 , 0.16109965])"
            ]
          },
          "metadata": {},
          "execution_count": 14
        }
      ]
    },
    {
      "cell_type": "markdown",
      "source": [
        "## h) Confusion Matrix\n",
        "\n",
        "Zeigen Sie die Konfusionsmatrix über die Funktion _plot\\_confusion\\_matrix_ an.\n",
        "Sie können dabei die Funktionen[sklearn.metrics.confusion_matrix](https://scikit-learn.org/stable/modules/generated/sklearn.metrics.confusion_matrix.html) und [seaborn.heatmap](https://seaborn.pydata.org/generated/seaborn.heatmap.html) verwenden.\n"
      ],
      "metadata": {
        "id": "ZOiyz8-E37op"
      }
    },
    {
      "cell_type": "code",
      "source": [
        "def plot_confusion_matrix(y_test: np.ndarray, y_scores: np.ndarray, threshold: int):\n",
        "    \"\"\"Zeichnet die Konfusionsmatrix für die wahren Labels y und die vorhergesagten Labels y_pred\"\"\"\n",
        "    y_pred = y_scores[:, 1] >= threshold\n",
        "    cm = confusion_matrix(y_test, y_pred)\n",
        "    df_cm = pd.DataFrame(cm)\n",
        "    sns.heatmap(df_cm, annot=True, cmap=plt.cm.Greens)\n",
        "    plt.title(\"Confusion matrix\")\n",
        "    plt.xlabel(\"Predicted Class\")\n",
        "    plt.ylabel(\"True Class\")\n",
        "    plt.grid(False)\n",
        "    plt.show()"
      ],
      "metadata": {
        "id": "UyCbbIuT2vpF"
      },
      "execution_count": 15,
      "outputs": []
    },
    {
      "cell_type": "code",
      "source": [
        "plot_confusion_matrix(y_test, y_scores, 0.5)"
      ],
      "metadata": {
        "id": "_uOERUKJ57fL",
        "colab": {
          "base_uri": "https://localhost:8080/",
          "height": 472
        },
        "outputId": "207d5422-f4f9-437d-ed62-503a95cf64c2"
      },
      "execution_count": 16,
      "outputs": [
        {
          "output_type": "display_data",
          "data": {
            "text/plain": [
              "<Figure size 640x480 with 2 Axes>"
            ],
            "image/png": "[encoded data removed]"
          },
          "metadata": {}
        }
      ]
    },
    {
      "cell_type": "markdown",
      "source": [
        "# Aufgabe 3.3 Fehlermetriken der Regression"
      ],
      "metadata": {
        "id": "SzPG40Am7B2N"
      }
    },
    {
      "cell_type": "markdown",
      "source": [
        "## a) Metrikevaluierung\n",
        "Evaluieren Sie die oben beschriebenen Metriken in der Funktion _evaluate\\_metric_.\n",
        "Wenden Sie dabei zunächst eine 5-fache Kreuzvalidierung mittels [sklearn.model_selection.cross_val_predict.html](https://scikit-learn.org/stable/modules/generated/sklearn.model_selection.cross_val_predict.html) an und werten Sie anschließend die Metrik über die Parameterübergabe von _y\\_true_ und _y\\_pred_ aus.\n",
        "\n",
        "Wir werden hierzu den [California Housing Prices Datensatz](https://scikit-learn.org/stable/modules/generated/sklearn.datasets.fetch_california_housing.html) verwenden. Die Daten enthalten Informationen aus der Volkszählung von 1990 in Kalifornien. Auch wenn sie Ihnen nicht bei der Vorhersage aktueller Immobilienpreise helfen können, bieten sie doch einen zugänglichen Einführungsdatensatz für die Vermittlung der Grundlagen des maschinellen Lernens.\n",
        "\n",
        "Als Modell dient hierzu ein [RandomForestRegressor](https://scikit-learn.org/stable/modules/generated/sklearn.ensemble.RandomForestRegressor.html) Modell. Dieses konstruiert ein Ensemble von mehreren Regression Tree Modellen und liefert den Mittelwert der Vorhersagen der einzelnen Modelle."
      ],
      "metadata": {
        "id": "yVqdEXz37YW8"
      }
    },
    {
      "cell_type": "code",
      "source": [
        "# Load boston house pricing dataset\n",
        "X, y = datasets.fetch_california_housing(return_X_y=True)\n",
        "print(X.shape, y.shape)"
      ],
      "metadata": {
        "colab": {
          "base_uri": "https://localhost:8080/"
        },
        "id": "CDsE5sUQ7uX2",
        "outputId": "cb6dbb10-60c5-44cb-9455-61a0ba07fea3"
      },
      "execution_count": 17,
      "outputs": [
        {
          "output_type": "stream",
          "name": "stdout",
          "text": [
            "(20640, 8) (20640,)\n"
          ]
        }
      ]
    },
    {
      "cell_type": "code",
      "source": [
        "print('Features:\\t', datasets.fetch_california_housing().feature_names)\n",
        "print('Target:\\t\\t', datasets.fetch_california_housing().target_names)"
      ],
      "metadata": {
        "colab": {
          "base_uri": "https://localhost:8080/"
        },
        "id": "m-R8sVgt9RKu",
        "outputId": "4eefa6f2-ba6d-4061-f5ad-4421ca56214c"
      },
      "execution_count": 18,
      "outputs": [
        {
          "output_type": "stream",
          "name": "stdout",
          "text": [
            "Features:\t ['MedInc', 'HouseAge', 'AveRooms', 'AveBedrms', 'Population', 'AveOccup', 'Latitude', 'Longitude']\n",
            "Target:\t\t ['MedHouseVal']\n"
          ]
        }
      ]
    },
    {
      "cell_type": "code",
      "source": [
        "# define regression model (Random Forest Regressor)\n",
        "model = RandomForestRegressor(n_estimators=10)"
      ],
      "metadata": {
        "id": "goT0G6GJ-UQZ"
      },
      "execution_count": 19,
      "outputs": []
    },
    {
      "cell_type": "code",
      "source": [
        "def evaluate_metric(X: np.ndarray, y: np.ndarray, clf: sklearn.base.BaseEstimator, metric:  staticmethod.__func__) -> float:\n",
        "  \"\"\"Führt eine 5-fold cross validation durch und evaluiert mithilfe der übergebenen Metrik.\"\"\"\n",
        "  y_pred = cross_val_predict(clf, X, y, cv=5, n_jobs=-1)\n",
        "  # Evaluate metric\n",
        "  err = metric(y_true=y, y_pred=y_pred)\n",
        "  return err"
      ],
      "metadata": {
        "id": "IzI-0kHG6htM"
      },
      "execution_count": 26,
      "outputs": []
    },
    {
      "cell_type": "code",
      "source": [
        "# define custom RMSE implementation (not available in sklearn)\n",
        "def root_mean_squared_errror(y_true, y_pred):\n",
        "  rmse = np.sqrt(mean_squared_error(y_true, y_pred))\n",
        "  return rmse"
      ],
      "metadata": {
        "id": "1HHbfKRqAOaL"
      },
      "execution_count": 27,
      "outputs": []
    },
    {
      "cell_type": "code",
      "source": [
        "# Evaluate predictions w.r.t. the above metrics\n",
        "print(f\"{'Metric':<24}{'Score':>6}\")\n",
        "print(\"-\" * 30)\n",
        "\n",
        "# define list of tuples containing the metric and its name\n",
        "for metric, name in [\n",
        "    (mean_absolute_error, \"Mean Absolute Error\"),\n",
        "    (mean_squared_error, \"Mean Squared Error\"),\n",
        "    (root_mean_squared_errror, \"Root Mean Squared Error\"),\n",
        "    (mean_squared_log_error, \"Mean Log Squared Error\"),\n",
        "    (median_absolute_error, \"Median Absolute Error\"),\n",
        "    (r2_score, \"R2 Score\")]:\n",
        "\n",
        "    # evaluate with metric\n",
        "    err = evaluate_metric(X, y, model, metric)\n",
        "\n",
        "    # print out results (formatted)\n",
        "    print(f\"{name:<24}{err: >6.2f}\")"
      ],
      "metadata": {
        "id": "4n-9NYPF-14s",
        "colab": {
          "base_uri": "https://localhost:8080/"
        },
        "outputId": "cf684212-c38d-49c7-ac9d-d75bf466e4ce"
      },
      "execution_count": 28,
      "outputs": [
        {
          "output_type": "stream",
          "name": "stdout",
          "text": [
            "Metric                   Score\n",
            "------------------------------\n",
            "Mean Absolute Error       0.09\n",
            "Mean Squared Error        0.04\n",
            "Root Mean Squared Error   0.21\n",
            "Mean Log Squared Error    0.02\n",
            "Median Absolute Error     0.00\n",
            "R2 Score                  0.80\n"
          ]
        }
      ]
    }
  ]
}